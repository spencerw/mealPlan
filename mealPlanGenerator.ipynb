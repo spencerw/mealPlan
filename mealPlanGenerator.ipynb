{
  "nbformat": 4,
  "nbformat_minor": 0,
  "metadata": {
    "colab": {
      "provenance": [],
      "include_colab_link": true
    },
    "kernelspec": {
      "name": "python3",
      "display_name": "Python 3"
    },
    "language_info": {
      "name": "python"
    }
  },
  "cells": [
    {
      "cell_type": "markdown",
      "metadata": {
        "id": "view-in-github",
        "colab_type": "text"
      },
      "source": [
        "<a href=\"https://colab.research.google.com/github/spencerw/mealPlan/blob/main/mealPlanGenerator.ipynb\" target=\"_parent\"><img src=\"https://colab.research.google.com/assets/colab-badge.svg\" alt=\"Open In Colab\"/></a>"
      ]
    },
    {
      "cell_type": "code",
      "source": [
        "import pandas as pd\n",
        "import glob as gl\n",
        "import numpy as np\n",
        "from datetime import datetime\n",
        "\n",
        "import gdown\n",
        "url = 'https://drive.google.com/drive/folders/1uLkSgyDh0_HiuX6Q6_sPTVH0G-g81hC2?usp=drive_link'\n",
        "gdown.download_folder(url, quiet=True)\n",
        "\n",
        "recipe_files = gl.glob('recipes/*.txt')\n",
        "print('Found ' + str(len(recipe_files)) + ' recipes')\n",
        "names = []\n",
        "meal = []\n",
        "urls = []\n",
        "ingredients = []\n",
        "\n",
        "for file in recipe_files:\n",
        "    with open(file) as f:\n",
        "        lines = f.readlines()\n",
        "        line0 = lines[0].split(',')\n",
        "        names.append(line0[0])\n",
        "        meal.append(line0[1].strip())\n",
        "        urls.append(lines[1])\n",
        "        ingredients.append(lines[2:])\n",
        "\n",
        "days = ['Sun', 'Mon', 'Tue', 'Wed', 'Thurs', 'Fri', 'Sat']\n",
        "meals = ['Breakfast', 'Lunch', 'Dinner']\n",
        "\n",
        "print('Meal plan generated at ' + str(datetime.now()))\n",
        "\n",
        "print('{0:<20}'.format(' '), end='')\n",
        "for d in days:\n",
        "    print('{0:<20}'.format(d), end='')\n",
        "print()\n",
        "\n",
        "for i in range(20 + len(days)*20):\n",
        "    print('-', end='')\n",
        "print()\n",
        "\n",
        "meals_to_make = []\n",
        "\n",
        "for m in meals:\n",
        "    print('{0:<10}'.format(m), end='')\n",
        "    print(' | ', end='')\n",
        "    for d in days:\n",
        "\n",
        "        meal_ind = []\n",
        "        for i in range(len(names)):\n",
        "            if meal[i] == m:\n",
        "                meal_ind.append(i)\n",
        "\n",
        "        meal_idx = np.random.choice(meal_ind)\n",
        "        meals_to_make.append(names[meal_idx])\n",
        "        print('{0:<20}'.format(names[meal_idx]), end='')\n",
        "    print()\n",
        "\n",
        "m2m_set = set(meals_to_make)\n",
        "\n",
        "ing_name = []\n",
        "ing_type = []\n",
        "\n",
        "for m in m2m_set:\n",
        "    ind = names.index(m)\n",
        "    ing_list = ingredients[ind]\n",
        "\n",
        "    for ing in ing_list:\n",
        "        line = ing.split(',')\n",
        "        name = line[1].strip()\n",
        "        itype = line[2].strip()\n",
        "\n",
        "        ing_name.append(name)\n",
        "        ing_type.append(itype)\n",
        "\n",
        "df = pd.DataFrame({'name': ing_name, 'type': ing_type})\n",
        "df['name'] = df['name'].str.capitalize()\n",
        "df = df.drop_duplicates('name')\n",
        "df = df.sort_values('type')\n",
        "\n",
        "print()\n",
        "print(df.to_markdown(index=False))\n"
      ],
      "metadata": {
        "colab": {
          "base_uri": "https://localhost:8080/"
        },
        "id": "BQDl0V542FA-",
        "outputId": "7ff2653f-4fb5-42bb-b21f-24055c20e320"
      },
      "execution_count": null,
      "outputs": [
        {
          "output_type": "stream",
          "name": "stdout",
          "text": [
            "Found 4 recipes\n",
            "Meal plan generated at 2023-10-11 22:51:36.518263\n",
            "                    Sun                 Mon                 Tue                 Wed                 Thurs               Fri                 Sat                 \n",
            "----------------------------------------------------------------------------------------------------------------------------------------------------------------\n",
            "Breakfast  | Eggs                Eggs                Eggs                Eggs                Eggs                Eggs                Eggs                \n",
            "Lunch      | Turkey Sandwich     Turkey Sandwich     Turkey Sandwich     Turkey Sandwich     Turkey Sandwich     Turkey Sandwich     Turkey Sandwich     \n",
            "Dinner     | Chicken Piccata     Salmon Soup         Chicken Piccata     Salmon Soup         Salmon Soup         Salmon Soup         Chicken Piccata     \n",
            "\n",
            "| name                   | type               |\n",
            "|:-----------------------|:-------------------|\n",
            "| Butter                 | Baking             |\n",
            "| All-purpose flour      | Baking             |\n",
            "| Kosher salt            | Baking             |\n",
            "| Salt                   | Baking             |\n",
            "| Bread                  | Bread              |\n",
            "| Egg                    | Dairy              |\n",
            "| Chicken stock          | Dry Boxes/Cans     |\n",
            "| Olive oil              | Dry Boxes/Cans     |\n",
            "| Mayo                   | Dry Boxes/Cans     |\n",
            "| Extra virgin olive oil | Dry Boxes/Cans     |\n",
            "| Chicken broth          | Dry Boxes/Cans     |\n",
            "| Turkey                 | Meats/Deli/Seafood |\n",
            "| Salmon                 | Meats/Deli/Seafood |\n",
            "| Chicken breast         | Meats/Deli/Seafood |\n",
            "| Green onions           | Produce            |\n",
            "| Gold potatoes          | Produce            |\n",
            "| Carrot                 | Produce            |\n",
            "| Lemon juice            | Produce            |\n",
            "| Capers                 | Produce            |\n",
            "| Garlic cloves          | Produce            |\n",
            "| Fresh dill             | Produce            |\n",
            "| Green bell pepper      | Produce            |\n",
            "| Lemon                  | Produce            |\n",
            "| Oregano                | Spices             |\n",
            "| Ground cumin           | Spices             |\n",
            "| Pepper                 | Spices             |\n",
            "| Black pepper           | Spices             |\n",
            "| Ground coriander       | Spices             |\n"
          ]
        }
      ]
    },
    {
      "cell_type": "code",
      "source": [],
      "metadata": {
        "id": "s3_KyH7r7oGx"
      },
      "execution_count": null,
      "outputs": []
    }
  ]
}